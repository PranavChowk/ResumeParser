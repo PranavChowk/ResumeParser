{
 "cells": [
  {
   "cell_type": "code",
   "execution_count": 1,
   "id": "b2cb2233",
   "metadata": {},
   "outputs": [],
   "source": [
    "import spacy\n",
    "from spacy.matcher import Matcher\n",
    "from spacy.tokens import Span\n",
    "import PyPDF2"
   ]
  },
  {
   "cell_type": "code",
   "execution_count": 2,
   "id": "366b64f0",
   "metadata": {},
   "outputs": [],
   "source": [
    "nlp = spacy.load('en_core_web_sm')"
   ]
  },
  {
   "cell_type": "code",
   "execution_count": 3,
   "id": "8807c89e",
   "metadata": {},
   "outputs": [],
   "source": [
    "# Define the patterns for matching different sections of the resume\n",
    "patterns = [\n",
    "    {'label': 'SKILLS', 'pattern': [{'LOWER': 'skills'}]},\n",
    "    {'label': 'PROFESSIONAL EXPERIENCE', 'pattern': [{'LOWER': 'professional experience'}]},\n",
    "    {'label': 'EDUCATION', 'pattern': [{'LOWER': 'education'}]}\n",
    "]"
   ]
  },
  {
   "cell_type": "code",
   "execution_count": 8,
   "id": "5aaed278",
   "metadata": {},
   "outputs": [],
   "source": [
    "matcher = Matcher(nlp.vocab)\n",
    "for pattern in patterns:\n",
    "    matcher.add(pattern['label'], [pattern['pattern']])"
   ]
  },
  {
   "cell_type": "code",
   "execution_count": 10,
   "id": "d86fdeac",
   "metadata": {},
   "outputs": [
    {
     "name": "stdout",
     "output_type": "stream",
     "text": [
      "Skills: []\n",
      "Professional Experience: []\n",
      "Education: ['EDUCATION']\n"
     ]
    }
   ],
   "source": [
    "def extract_skills(text):\n",
    "    doc = nlp(text)\n",
    "    skills = []\n",
    "    for match_id, start, end in matcher(doc):\n",
    "        if doc.vocab.strings[match_id] == 'SKILLS':\n",
    "            skills.extend([t.text for t in doc[start:end].noun_chunks if not t.is_stop])\n",
    "    return skills\n",
    "\n",
    "\n",
    "def extract_experience(text):\n",
    "    doc = nlp(text)\n",
    "    experiences = []\n",
    "    for match_id, start, end in matcher(doc):\n",
    "        if doc.vocab.strings[match_id] == 'PROFESSIONAL EXPERIENCE':\n",
    "            experiences.append(doc[start:end].text)\n",
    "    return experiences\n",
    "\n",
    "\n",
    "def extract_education(text):\n",
    "    doc = nlp(text)\n",
    "    educations = []\n",
    "    for match_id, start, end in matcher(doc):\n",
    "        if doc.vocab.strings[match_id] == 'EDUCATION':\n",
    "            educations.append(doc[start:end].text)\n",
    "    return educations\n",
    "\n",
    "\n",
    "def parse_pdf_resume(file_path):\n",
    "    with open(file_path, 'rb') as file:\n",
    "        reader = PyPDF2.PdfReader(file)\n",
    "        resume_text = ''\n",
    "        for page in reader.pages:\n",
    "            resume_text += page.extract_text()\n",
    "\n",
    "    skills = extract_skills(resume_text)\n",
    "    experience = extract_experience(resume_text)\n",
    "    education = extract_education(resume_text)\n",
    "\n",
    "    return skills, experience, education,\n",
    "\n",
    "# Example usage\n",
    "pdf_resume_path = 'Old_Resume.pdf'\n",
    "\n",
    "skills, experience, education = parse_pdf_resume(pdf_resume_path)\n",
    "\n",
    "print('Skills:', skills)\n",
    "print('Professional Experience:', experience)\n",
    "print('Education:', education)"
   ]
  },
  {
   "cell_type": "code",
   "execution_count": null,
   "id": "7f8a5384",
   "metadata": {},
   "outputs": [],
   "source": []
  }
 ],
 "metadata": {
  "kernelspec": {
   "display_name": "Python 3 (ipykernel)",
   "language": "python",
   "name": "python3"
  },
  "language_info": {
   "codemirror_mode": {
    "name": "ipython",
    "version": 3
   },
   "file_extension": ".py",
   "mimetype": "text/x-python",
   "name": "python",
   "nbconvert_exporter": "python",
   "pygments_lexer": "ipython3",
   "version": "3.9.12"
  }
 },
 "nbformat": 4,
 "nbformat_minor": 5
}
